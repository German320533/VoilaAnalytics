{
 "cells": [
  {
   "cell_type": "code",
   "execution_count": null,
   "id": "4c9948ed",
   "metadata": {},
   "outputs": [],
   "source": [
    "\n",
    "import ipywidgets as widgets\n",
    "from IPython.display import display, clear_output\n",
    "import openai\n",
    "import pandas as pd\n",
    "import matplotlib.pyplot as plt\n",
    "import os\n",
    "from sqlalchemy import create_engine\n",
    "\n",
    "# Настройка ключа OpenAI и подключения к БД через переменные окружения\n",
    "openai.api_key = os.getenv(\"OPENAI_API_KEY\")\n"
   ]
  },
  {
   "cell_type": "code",
   "execution_count": null,
   "id": "35a5ef8e",
   "metadata": {},
   "outputs": [],
   "source": [
    "\n",
    "question_input = widgets.Textarea(\n",
    "    value='',\n",
    "    placeholder='Например: Покажи продажи шоколада по месяцам за 2023 год',\n",
    "    description='Вопрос:',\n",
    "    layout=widgets.Layout(width='100%', height='100px'),\n",
    ")\n",
    "submit_button = widgets.Button(description='Анализировать', button_style='primary')\n",
    "output = widgets.Output()\n",
    "\n",
    "display(question_input, submit_button, output)\n"
   ]
  },
  {
   "cell_type": "code",
   "execution_count": null,
   "id": "d7d69732",
   "metadata": {},
   "outputs": [],
   "source": [
    "from openai import OpenAI\n",
    "client = OpenAI(api_key=os.getenv(\"OPENAI_API_KEY\"))\n",
    "def question_to_sql(question: str) -> str:\n",
    "    prompt = f\"\"\"\n",
    "Ты аналитик. Преобразуй вопрос на русском языке в SQL-запрос для PostgreSQL 17.\n",
    "Структура таблиц:\n",
    "- Products(product_id, product_name)\n",
    "- Product_materials(product_id, component_id)\n",
    "- Customers(customer_id, customer_name, product_id, purchase_date, price, quantity)\n",
    "- Components(component_id, product_id, component_name, material_id)\n",
    "- Materials(material_id, material_name)\n",
    "\n",
    "Вопрос: {question}\n",
    "SQL:\n",
    "\"\"\"\n",
    "\n",
    "    response = client.chat.completions.create(\n",
    "        model=\"gpt-3.5-turbo\",\n",
    "        messages=[{\"role\": \"user\", \"content\": prompt}],\n",
    "        temperature=0,\n",
    "    )\n",
    "    return response.choices[0].message.content.strip()\n",
    "\n"
   ]
  },
  {
   "cell_type": "code",
   "execution_count": null,
   "id": "1db3318b",
   "metadata": {},
   "outputs": [],
   "source": [
    "\n",
    "def execute_sql(query: str) -> pd.DataFrame:\n",
    "    engine = create_engine(os.getenv(\"DATABASE_URL\"))\n",
    "    with engine.connect() as connection:\n",
    "        df = pd.read_sql_query(query, connection)\n",
    "    return df\n"
   ]
  },
  {
   "cell_type": "code",
   "execution_count": null,
   "id": "4a6e7193",
   "metadata": {},
   "outputs": [],
   "source": [
    "\n",
    "def visualize(df: pd.DataFrame):\n",
    "    display(df)\n",
    "\n",
    "    time_cols = [col for col in df.columns if col.lower() in ['purchase_date', 'month', 'date']]\n",
    "    value_cols = [col for col in df.columns if pd.api.types.is_numeric_dtype(df[col])]\n",
    "\n",
    "    if time_cols and value_cols:\n",
    "        time_col = time_cols[0]\n",
    "        value_col = value_cols[0]\n",
    "\n",
    "        df[time_col] = pd.to_datetime(df[time_col])\n",
    "        df.sort_values(by=time_col, inplace=True)\n",
    "        df.set_index(time_col, inplace=True)\n",
    "\n",
    "        df[value_col].plot(kind='line', marker='o', title=f\"{value_col} по дате\")\n",
    "        plt.grid(True)\n",
    "        plt.ylabel(value_col)\n",
    "        plt.show()\n"
   ]
  },
  {
   "cell_type": "code",
   "execution_count": null,
   "id": "810769fc",
   "metadata": {},
   "outputs": [],
   "source": [
    "\n",
    "def on_submit_clicked(b):\n",
    "    with output:\n",
    "        clear_output()\n",
    "        question = question_input.value.strip()\n",
    "        if not question:\n",
    "            print(\"Введите вопрос.\")\n",
    "            return\n",
    "\n",
    "        print(\"🧠 Вопрос:\", question)\n",
    "        sql = question_to_sql(question)\n",
    "        print(\"\\n📄 SQL:\")\n",
    "        print(sql)\n",
    "\n",
    "        try:\n",
    "            df = execute_sql(sql)\n",
    "            print(\"\\n📊 Результат:\")\n",
    "            visualize(df)\n",
    "        except Exception as e:\n",
    "            print(\"⚠️ Ошибка:\", e)\n",
    "\n",
    "submit_button.on_click(on_submit_clicked)\n"
   ]
  }
 ],
 "metadata": {
  "kernelspec": {
   "display_name": "Python 3",
   "language": "python",
   "name": "python3"
  }
 },
 "nbformat": 4,
 "nbformat_minor": 5
}
